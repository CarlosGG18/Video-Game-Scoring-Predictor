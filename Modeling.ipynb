{
 "cells": [
  {
   "cell_type": "code",
   "execution_count": 1,
   "metadata": {},
   "outputs": [],
   "source": [
    "import pandas as pd\n",
    "import numpy as np\n",
    "import matplotlib.pyplot as plt\n",
    "import seaborn as sns \n",
    "import seaborn\n",
    "from sklearn.model_selection import train_test_split, GridSearchCV, cross_val_score, cross_val_predict, GridSearchCV,RepeatedKFold\n",
    "from sklearn.preprocessing import PolynomialFeatures\n",
    "from sklearn.metrics import mean_squared_error\n",
    "from sklearn.linear_model import LinearRegression, Ridge, Lasso, ElasticNet\n",
    "from sklearn.ensemble import GradientBoostingRegressor, RandomForestRegressor, ExtraTreesRegressor\n",
    "from sklearn.pipeline import Pipeline\n",
    "import statsmodels.api as sm\n",
    "from statsmodels.api import OLS\n",
    "from statsmodels.tools.tools import add_constant\n",
    "from xgboost import XGBRegressor\n",
    "\n"
   ]
  },
  {
   "cell_type": "code",
   "execution_count": 2,
   "metadata": {},
   "outputs": [],
   "source": [
    "df = pd.read_csv('cleaned_data_2.csv')"
   ]
  },
  {
   "cell_type": "code",
   "execution_count": 3,
   "metadata": {},
   "outputs": [
    {
     "data": {
      "text/html": [
       "<div>\n",
       "<style scoped>\n",
       "    .dataframe tbody tr th:only-of-type {\n",
       "        vertical-align: middle;\n",
       "    }\n",
       "\n",
       "    .dataframe tbody tr th {\n",
       "        vertical-align: top;\n",
       "    }\n",
       "\n",
       "    .dataframe thead th {\n",
       "        text-align: right;\n",
       "    }\n",
       "</style>\n",
       "<table border=\"1\" class=\"dataframe\">\n",
       "  <thead>\n",
       "    <tr style=\"text-align: right;\">\n",
       "      <th></th>\n",
       "      <th>Name</th>\n",
       "      <th>Platform</th>\n",
       "      <th>Year_of_Release</th>\n",
       "      <th>Genre</th>\n",
       "      <th>Publisher</th>\n",
       "      <th>NA_Sales</th>\n",
       "      <th>EU_Sales</th>\n",
       "      <th>JP_Sales</th>\n",
       "      <th>Other_Sales</th>\n",
       "      <th>Global_Sales</th>\n",
       "      <th>Critic_Score</th>\n",
       "      <th>Critic_Count</th>\n",
       "      <th>User_Score</th>\n",
       "      <th>User_Count</th>\n",
       "      <th>Developer</th>\n",
       "      <th>Rating</th>\n",
       "      <th>Score_class</th>\n",
       "    </tr>\n",
       "  </thead>\n",
       "  <tbody>\n",
       "    <tr>\n",
       "      <th>0</th>\n",
       "      <td>Wii Sports</td>\n",
       "      <td>12</td>\n",
       "      <td>2006</td>\n",
       "      <td>10</td>\n",
       "      <td>Nintendo</td>\n",
       "      <td>41.36</td>\n",
       "      <td>28.96</td>\n",
       "      <td>3.77</td>\n",
       "      <td>8.45</td>\n",
       "      <td>82.53</td>\n",
       "      <td>76.0</td>\n",
       "      <td>51.0</td>\n",
       "      <td>8.0</td>\n",
       "      <td>322.0</td>\n",
       "      <td>Nintendo</td>\n",
       "      <td>1</td>\n",
       "      <td>Average</td>\n",
       "    </tr>\n",
       "    <tr>\n",
       "      <th>1</th>\n",
       "      <td>Mario Kart Wii</td>\n",
       "      <td>12</td>\n",
       "      <td>2008</td>\n",
       "      <td>6</td>\n",
       "      <td>Nintendo</td>\n",
       "      <td>15.68</td>\n",
       "      <td>12.76</td>\n",
       "      <td>3.79</td>\n",
       "      <td>3.29</td>\n",
       "      <td>35.52</td>\n",
       "      <td>82.0</td>\n",
       "      <td>73.0</td>\n",
       "      <td>8.3</td>\n",
       "      <td>709.0</td>\n",
       "      <td>Nintendo</td>\n",
       "      <td>1</td>\n",
       "      <td>High</td>\n",
       "    </tr>\n",
       "    <tr>\n",
       "      <th>2</th>\n",
       "      <td>Wii Sports Resort</td>\n",
       "      <td>12</td>\n",
       "      <td>2009</td>\n",
       "      <td>10</td>\n",
       "      <td>Nintendo</td>\n",
       "      <td>15.61</td>\n",
       "      <td>10.93</td>\n",
       "      <td>3.28</td>\n",
       "      <td>2.95</td>\n",
       "      <td>32.77</td>\n",
       "      <td>80.0</td>\n",
       "      <td>73.0</td>\n",
       "      <td>8.0</td>\n",
       "      <td>192.0</td>\n",
       "      <td>Nintendo</td>\n",
       "      <td>1</td>\n",
       "      <td>High</td>\n",
       "    </tr>\n",
       "    <tr>\n",
       "      <th>3</th>\n",
       "      <td>New Super Mario Bros.</td>\n",
       "      <td>2</td>\n",
       "      <td>2006</td>\n",
       "      <td>4</td>\n",
       "      <td>Nintendo</td>\n",
       "      <td>11.28</td>\n",
       "      <td>9.14</td>\n",
       "      <td>6.50</td>\n",
       "      <td>2.88</td>\n",
       "      <td>29.80</td>\n",
       "      <td>89.0</td>\n",
       "      <td>65.0</td>\n",
       "      <td>8.5</td>\n",
       "      <td>431.0</td>\n",
       "      <td>Nintendo</td>\n",
       "      <td>1</td>\n",
       "      <td>High</td>\n",
       "    </tr>\n",
       "    <tr>\n",
       "      <th>4</th>\n",
       "      <td>Wii Play</td>\n",
       "      <td>12</td>\n",
       "      <td>2006</td>\n",
       "      <td>3</td>\n",
       "      <td>Nintendo</td>\n",
       "      <td>13.96</td>\n",
       "      <td>9.18</td>\n",
       "      <td>2.93</td>\n",
       "      <td>2.84</td>\n",
       "      <td>28.92</td>\n",
       "      <td>58.0</td>\n",
       "      <td>41.0</td>\n",
       "      <td>6.6</td>\n",
       "      <td>129.0</td>\n",
       "      <td>Nintendo</td>\n",
       "      <td>1</td>\n",
       "      <td>Low</td>\n",
       "    </tr>\n",
       "  </tbody>\n",
       "</table>\n",
       "</div>"
      ],
      "text/plain": [
       "                    Name  Platform  Year_of_Release  Genre Publisher  \\\n",
       "0             Wii Sports        12             2006     10  Nintendo   \n",
       "1         Mario Kart Wii        12             2008      6  Nintendo   \n",
       "2      Wii Sports Resort        12             2009     10  Nintendo   \n",
       "3  New Super Mario Bros.         2             2006      4  Nintendo   \n",
       "4               Wii Play        12             2006      3  Nintendo   \n",
       "\n",
       "   NA_Sales  EU_Sales  JP_Sales  Other_Sales  Global_Sales  Critic_Score  \\\n",
       "0     41.36     28.96      3.77         8.45         82.53          76.0   \n",
       "1     15.68     12.76      3.79         3.29         35.52          82.0   \n",
       "2     15.61     10.93      3.28         2.95         32.77          80.0   \n",
       "3     11.28      9.14      6.50         2.88         29.80          89.0   \n",
       "4     13.96      9.18      2.93         2.84         28.92          58.0   \n",
       "\n",
       "   Critic_Count  User_Score  User_Count Developer  Rating Score_class  \n",
       "0          51.0         8.0       322.0  Nintendo       1     Average  \n",
       "1          73.0         8.3       709.0  Nintendo       1        High  \n",
       "2          73.0         8.0       192.0  Nintendo       1        High  \n",
       "3          65.0         8.5       431.0  Nintendo       1        High  \n",
       "4          41.0         6.6       129.0  Nintendo       1         Low  "
      ]
     },
     "execution_count": 3,
     "metadata": {},
     "output_type": "execute_result"
    }
   ],
   "source": [
    "df.head()"
   ]
  },
  {
   "cell_type": "code",
   "execution_count": 4,
   "metadata": {},
   "outputs": [],
   "source": [
    "y= df['Critic_Score']\n",
    "X = df.drop(['Critic_Score','Name','Publisher','Developer','Score_class','Other_Sales'], axis=1)"
   ]
  },
  {
   "cell_type": "code",
   "execution_count": 5,
   "metadata": {},
   "outputs": [
    {
     "data": {
      "text/html": [
       "<div>\n",
       "<style scoped>\n",
       "    .dataframe tbody tr th:only-of-type {\n",
       "        vertical-align: middle;\n",
       "    }\n",
       "\n",
       "    .dataframe tbody tr th {\n",
       "        vertical-align: top;\n",
       "    }\n",
       "\n",
       "    .dataframe thead th {\n",
       "        text-align: right;\n",
       "    }\n",
       "</style>\n",
       "<table border=\"1\" class=\"dataframe\">\n",
       "  <thead>\n",
       "    <tr style=\"text-align: right;\">\n",
       "      <th></th>\n",
       "      <th>Platform</th>\n",
       "      <th>Year_of_Release</th>\n",
       "      <th>Genre</th>\n",
       "      <th>NA_Sales</th>\n",
       "      <th>EU_Sales</th>\n",
       "      <th>JP_Sales</th>\n",
       "      <th>Global_Sales</th>\n",
       "      <th>Critic_Count</th>\n",
       "      <th>User_Score</th>\n",
       "      <th>User_Count</th>\n",
       "      <th>Rating</th>\n",
       "    </tr>\n",
       "  </thead>\n",
       "  <tbody>\n",
       "    <tr>\n",
       "      <th>0</th>\n",
       "      <td>12</td>\n",
       "      <td>2006</td>\n",
       "      <td>10</td>\n",
       "      <td>41.36</td>\n",
       "      <td>28.96</td>\n",
       "      <td>3.77</td>\n",
       "      <td>82.53</td>\n",
       "      <td>51.0</td>\n",
       "      <td>8.0</td>\n",
       "      <td>322.0</td>\n",
       "      <td>1</td>\n",
       "    </tr>\n",
       "    <tr>\n",
       "      <th>1</th>\n",
       "      <td>12</td>\n",
       "      <td>2008</td>\n",
       "      <td>6</td>\n",
       "      <td>15.68</td>\n",
       "      <td>12.76</td>\n",
       "      <td>3.79</td>\n",
       "      <td>35.52</td>\n",
       "      <td>73.0</td>\n",
       "      <td>8.3</td>\n",
       "      <td>709.0</td>\n",
       "      <td>1</td>\n",
       "    </tr>\n",
       "    <tr>\n",
       "      <th>2</th>\n",
       "      <td>12</td>\n",
       "      <td>2009</td>\n",
       "      <td>10</td>\n",
       "      <td>15.61</td>\n",
       "      <td>10.93</td>\n",
       "      <td>3.28</td>\n",
       "      <td>32.77</td>\n",
       "      <td>73.0</td>\n",
       "      <td>8.0</td>\n",
       "      <td>192.0</td>\n",
       "      <td>1</td>\n",
       "    </tr>\n",
       "    <tr>\n",
       "      <th>3</th>\n",
       "      <td>2</td>\n",
       "      <td>2006</td>\n",
       "      <td>4</td>\n",
       "      <td>11.28</td>\n",
       "      <td>9.14</td>\n",
       "      <td>6.50</td>\n",
       "      <td>29.80</td>\n",
       "      <td>65.0</td>\n",
       "      <td>8.5</td>\n",
       "      <td>431.0</td>\n",
       "      <td>1</td>\n",
       "    </tr>\n",
       "    <tr>\n",
       "      <th>4</th>\n",
       "      <td>12</td>\n",
       "      <td>2006</td>\n",
       "      <td>3</td>\n",
       "      <td>13.96</td>\n",
       "      <td>9.18</td>\n",
       "      <td>2.93</td>\n",
       "      <td>28.92</td>\n",
       "      <td>41.0</td>\n",
       "      <td>6.6</td>\n",
       "      <td>129.0</td>\n",
       "      <td>1</td>\n",
       "    </tr>\n",
       "    <tr>\n",
       "      <th>...</th>\n",
       "      <td>...</td>\n",
       "      <td>...</td>\n",
       "      <td>...</td>\n",
       "      <td>...</td>\n",
       "      <td>...</td>\n",
       "      <td>...</td>\n",
       "      <td>...</td>\n",
       "      <td>...</td>\n",
       "      <td>...</td>\n",
       "      <td>...</td>\n",
       "      <td>...</td>\n",
       "    </tr>\n",
       "    <tr>\n",
       "      <th>6817</th>\n",
       "      <td>3</td>\n",
       "      <td>2001</td>\n",
       "      <td>0</td>\n",
       "      <td>0.01</td>\n",
       "      <td>0.00</td>\n",
       "      <td>0.00</td>\n",
       "      <td>0.01</td>\n",
       "      <td>4.0</td>\n",
       "      <td>2.4</td>\n",
       "      <td>21.0</td>\n",
       "      <td>1</td>\n",
       "    </tr>\n",
       "    <tr>\n",
       "      <th>6818</th>\n",
       "      <td>3</td>\n",
       "      <td>2002</td>\n",
       "      <td>2</td>\n",
       "      <td>0.01</td>\n",
       "      <td>0.00</td>\n",
       "      <td>0.00</td>\n",
       "      <td>0.01</td>\n",
       "      <td>12.0</td>\n",
       "      <td>8.8</td>\n",
       "      <td>9.0</td>\n",
       "      <td>4</td>\n",
       "    </tr>\n",
       "    <tr>\n",
       "      <th>6819</th>\n",
       "      <td>5</td>\n",
       "      <td>2014</td>\n",
       "      <td>0</td>\n",
       "      <td>0.00</td>\n",
       "      <td>0.01</td>\n",
       "      <td>0.00</td>\n",
       "      <td>0.01</td>\n",
       "      <td>20.0</td>\n",
       "      <td>7.6</td>\n",
       "      <td>412.0</td>\n",
       "      <td>4</td>\n",
       "    </tr>\n",
       "    <tr>\n",
       "      <th>6820</th>\n",
       "      <td>5</td>\n",
       "      <td>2011</td>\n",
       "      <td>8</td>\n",
       "      <td>0.01</td>\n",
       "      <td>0.00</td>\n",
       "      <td>0.00</td>\n",
       "      <td>0.01</td>\n",
       "      <td>12.0</td>\n",
       "      <td>5.8</td>\n",
       "      <td>43.0</td>\n",
       "      <td>6</td>\n",
       "    </tr>\n",
       "    <tr>\n",
       "      <th>6821</th>\n",
       "      <td>5</td>\n",
       "      <td>2011</td>\n",
       "      <td>11</td>\n",
       "      <td>0.00</td>\n",
       "      <td>0.01</td>\n",
       "      <td>0.00</td>\n",
       "      <td>0.01</td>\n",
       "      <td>12.0</td>\n",
       "      <td>7.2</td>\n",
       "      <td>13.0</td>\n",
       "      <td>2</td>\n",
       "    </tr>\n",
       "  </tbody>\n",
       "</table>\n",
       "<p>6822 rows × 11 columns</p>\n",
       "</div>"
      ],
      "text/plain": [
       "      Platform  Year_of_Release  Genre  NA_Sales  EU_Sales  JP_Sales  \\\n",
       "0           12             2006     10     41.36     28.96      3.77   \n",
       "1           12             2008      6     15.68     12.76      3.79   \n",
       "2           12             2009     10     15.61     10.93      3.28   \n",
       "3            2             2006      4     11.28      9.14      6.50   \n",
       "4           12             2006      3     13.96      9.18      2.93   \n",
       "...        ...              ...    ...       ...       ...       ...   \n",
       "6817         3             2001      0      0.01      0.00      0.00   \n",
       "6818         3             2002      2      0.01      0.00      0.00   \n",
       "6819         5             2014      0      0.00      0.01      0.00   \n",
       "6820         5             2011      8      0.01      0.00      0.00   \n",
       "6821         5             2011     11      0.00      0.01      0.00   \n",
       "\n",
       "      Global_Sales  Critic_Count  User_Score  User_Count  Rating  \n",
       "0            82.53          51.0         8.0       322.0       1  \n",
       "1            35.52          73.0         8.3       709.0       1  \n",
       "2            32.77          73.0         8.0       192.0       1  \n",
       "3            29.80          65.0         8.5       431.0       1  \n",
       "4            28.92          41.0         6.6       129.0       1  \n",
       "...            ...           ...         ...         ...     ...  \n",
       "6817          0.01           4.0         2.4        21.0       1  \n",
       "6818          0.01          12.0         8.8         9.0       4  \n",
       "6819          0.01          20.0         7.6       412.0       4  \n",
       "6820          0.01          12.0         5.8        43.0       6  \n",
       "6821          0.01          12.0         7.2        13.0       2  \n",
       "\n",
       "[6822 rows x 11 columns]"
      ]
     },
     "execution_count": 5,
     "metadata": {},
     "output_type": "execute_result"
    }
   ],
   "source": [
    "X"
   ]
  },
  {
   "cell_type": "code",
   "execution_count": 6,
   "metadata": {},
   "outputs": [],
   "source": [
    "# Standardizing predictor, X_train, and adding constant term \n",
    "\n",
    "X_standard = X.apply(lambda x: (x - x.mean())/x.std())\n",
    "X_aug = add_constant(X_standard)\n",
    "y_standard = (y - y.mean())/y.std()"
   ]
  },
  {
   "cell_type": "code",
   "execution_count": 7,
   "metadata": {},
   "outputs": [],
   "source": [
    "X_train, X_test, y_train, y_test = train_test_split(X, y, test_size =0.2, random_state=42)"
   ]
  },
  {
   "cell_type": "code",
   "execution_count": 8,
   "metadata": {},
   "outputs": [
    {
     "name": "stdout",
     "output_type": "stream",
     "text": [
      "Train shape: (5457, 11)\n",
      "Test shape: (1365, 11)\n"
     ]
    }
   ],
   "source": [
    "print('Train shape:', X_train.shape)\n",
    "print('Test shape:', X_test.shape)"
   ]
  },
  {
   "attachments": {},
   "cell_type": "markdown",
   "metadata": {},
   "source": [
    "### MultiLinear Regression + Cross Validation"
   ]
  },
  {
   "cell_type": "code",
   "execution_count": 9,
   "metadata": {},
   "outputs": [
    {
     "data": {
      "image/png": "[encoded data removed]",
      "text/plain": [
       "<Figure size 1000x500 with 1 Axes>"
      ]
     },
     "metadata": {},
     "output_type": "display_data"
    },
    {
     "data": {
      "text/html": [
       "<table class=\"simpletable\">\n",
       "<caption>OLS Regression Results</caption>\n",
       "<tr>\n",
       "  <th>Dep. Variable:</th>      <td>Critic_Score</td>   <th>  R-squared:         </th> <td>   0.483</td> \n",
       "</tr>\n",
       "<tr>\n",
       "  <th>Model:</th>                   <td>OLS</td>       <th>  Adj. R-squared:    </th> <td>   0.482</td> \n",
       "</tr>\n",
       "<tr>\n",
       "  <th>Method:</th>             <td>Least Squares</td>  <th>  F-statistic:       </th> <td>   578.3</td> \n",
       "</tr>\n",
       "<tr>\n",
       "  <th>Date:</th>             <td>Fri, 24 Feb 2023</td> <th>  Prob (F-statistic):</th>  <td>  0.00</td>  \n",
       "</tr>\n",
       "<tr>\n",
       "  <th>Time:</th>                 <td>15:42:31</td>     <th>  Log-Likelihood:    </th> <td> -7429.5</td> \n",
       "</tr>\n",
       "<tr>\n",
       "  <th>No. Observations:</th>      <td>  6822</td>      <th>  AIC:               </th> <td>1.488e+04</td>\n",
       "</tr>\n",
       "<tr>\n",
       "  <th>Df Residuals:</th>          <td>  6810</td>      <th>  BIC:               </th> <td>1.496e+04</td>\n",
       "</tr>\n",
       "<tr>\n",
       "  <th>Df Model:</th>              <td>    11</td>      <th>                     </th>     <td> </td>    \n",
       "</tr>\n",
       "<tr>\n",
       "  <th>Covariance Type:</th>      <td>nonrobust</td>    <th>                     </th>     <td> </td>    \n",
       "</tr>\n",
       "</table>\n",
       "<table class=\"simpletable\">\n",
       "<tr>\n",
       "         <td></td>            <th>coef</th>     <th>std err</th>      <th>t</th>      <th>P>|t|</th>  <th>[0.025</th>    <th>0.975]</th>  \n",
       "</tr>\n",
       "<tr>\n",
       "  <th>const</th>           <td> 1.495e-14</td> <td>    0.009</td> <td> 1.72e-12</td> <td> 1.000</td> <td>   -0.017</td> <td>    0.017</td>\n",
       "</tr>\n",
       "<tr>\n",
       "  <th>Platform</th>        <td>   -0.0373</td> <td>    0.009</td> <td>   -4.026</td> <td> 0.000</td> <td>   -0.056</td> <td>   -0.019</td>\n",
       "</tr>\n",
       "<tr>\n",
       "  <th>Year_of_Release</th> <td>    0.0829</td> <td>    0.010</td> <td>    8.588</td> <td> 0.000</td> <td>    0.064</td> <td>    0.102</td>\n",
       "</tr>\n",
       "<tr>\n",
       "  <th>Genre</th>           <td>    0.1354</td> <td>    0.009</td> <td>   15.182</td> <td> 0.000</td> <td>    0.118</td> <td>    0.153</td>\n",
       "</tr>\n",
       "<tr>\n",
       "  <th>NA_Sales</th>        <td>    0.0312</td> <td>    0.056</td> <td>    0.560</td> <td> 0.576</td> <td>   -0.078</td> <td>    0.140</td>\n",
       "</tr>\n",
       "<tr>\n",
       "  <th>EU_Sales</th>        <td>   -0.0091</td> <td>    0.042</td> <td>   -0.218</td> <td> 0.828</td> <td>   -0.091</td> <td>    0.073</td>\n",
       "</tr>\n",
       "<tr>\n",
       "  <th>JP_Sales</th>        <td>   -0.0361</td> <td>    0.018</td> <td>   -2.039</td> <td> 0.042</td> <td>   -0.071</td> <td>   -0.001</td>\n",
       "</tr>\n",
       "<tr>\n",
       "  <th>Global_Sales</th>    <td>    0.0861</td> <td>    0.096</td> <td>    0.893</td> <td> 0.372</td> <td>   -0.103</td> <td>    0.275</td>\n",
       "</tr>\n",
       "<tr>\n",
       "  <th>Critic_Count</th>    <td>    0.2180</td> <td>    0.010</td> <td>   21.007</td> <td> 0.000</td> <td>    0.198</td> <td>    0.238</td>\n",
       "</tr>\n",
       "<tr>\n",
       "  <th>User_Score</th>      <td>    0.5485</td> <td>    0.009</td> <td>   58.344</td> <td> 0.000</td> <td>    0.530</td> <td>    0.567</td>\n",
       "</tr>\n",
       "<tr>\n",
       "  <th>User_Count</th>      <td>    0.1365</td> <td>    0.010</td> <td>   13.868</td> <td> 0.000</td> <td>    0.117</td> <td>    0.156</td>\n",
       "</tr>\n",
       "<tr>\n",
       "  <th>Rating</th>          <td>   -0.0611</td> <td>    0.009</td> <td>   -6.714</td> <td> 0.000</td> <td>   -0.079</td> <td>   -0.043</td>\n",
       "</tr>\n",
       "</table>\n",
       "<table class=\"simpletable\">\n",
       "<tr>\n",
       "  <th>Omnibus:</th>       <td>160.942</td> <th>  Durbin-Watson:     </th> <td>   1.954</td>\n",
       "</tr>\n",
       "<tr>\n",
       "  <th>Prob(Omnibus):</th> <td> 0.000</td>  <th>  Jarque-Bera (JB):  </th> <td> 193.818</td>\n",
       "</tr>\n",
       "<tr>\n",
       "  <th>Skew:</th>          <td>-0.318</td>  <th>  Prob(JB):          </th> <td>8.19e-43</td>\n",
       "</tr>\n",
       "<tr>\n",
       "  <th>Kurtosis:</th>      <td> 3.526</td>  <th>  Cond. No.          </th> <td>    25.1</td>\n",
       "</tr>\n",
       "</table><br/><br/>Notes:<br/>[1] Standard Errors assume that the covariance matrix of the errors is correctly specified."
      ],
      "text/plain": [
       "<class 'statsmodels.iolib.summary.Summary'>\n",
       "\"\"\"\n",
       "                            OLS Regression Results                            \n",
       "==============================================================================\n",
       "Dep. Variable:           Critic_Score   R-squared:                       0.483\n",
       "Model:                            OLS   Adj. R-squared:                  0.482\n",
       "Method:                 Least Squares   F-statistic:                     578.3\n",
       "Date:                Fri, 24 Feb 2023   Prob (F-statistic):               0.00\n",
       "Time:                        15:42:31   Log-Likelihood:                -7429.5\n",
       "No. Observations:                6822   AIC:                         1.488e+04\n",
       "Df Residuals:                    6810   BIC:                         1.496e+04\n",
       "Df Model:                          11                                         \n",
       "Covariance Type:            nonrobust                                         \n",
       "===================================================================================\n",
       "                      coef    std err          t      P>|t|      [0.025      0.975]\n",
       "-----------------------------------------------------------------------------------\n",
       "const            1.495e-14      0.009   1.72e-12      1.000      -0.017       0.017\n",
       "Platform           -0.0373      0.009     -4.026      0.000      -0.056      -0.019\n",
       "Year_of_Release     0.0829      0.010      8.588      0.000       0.064       0.102\n",
       "Genre               0.1354      0.009     15.182      0.000       0.118       0.153\n",
       "NA_Sales            0.0312      0.056      0.560      0.576      -0.078       0.140\n",
       "EU_Sales           -0.0091      0.042     -0.218      0.828      -0.091       0.073\n",
       "JP_Sales           -0.0361      0.018     -2.039      0.042      -0.071      -0.001\n",
       "Global_Sales        0.0861      0.096      0.893      0.372      -0.103       0.275\n",
       "Critic_Count        0.2180      0.010     21.007      0.000       0.198       0.238\n",
       "User_Score          0.5485      0.009     58.344      0.000       0.530       0.567\n",
       "User_Count          0.1365      0.010     13.868      0.000       0.117       0.156\n",
       "Rating             -0.0611      0.009     -6.714      0.000      -0.079      -0.043\n",
       "==============================================================================\n",
       "Omnibus:                      160.942   Durbin-Watson:                   1.954\n",
       "Prob(Omnibus):                  0.000   Jarque-Bera (JB):              193.818\n",
       "Skew:                          -0.318   Prob(JB):                     8.19e-43\n",
       "Kurtosis:                       3.526   Cond. No.                         25.1\n",
       "==============================================================================\n",
       "\n",
       "Notes:\n",
       "[1] Standard Errors assume that the covariance matrix of the errors is correctly specified.\n",
       "\"\"\""
      ]
     },
     "execution_count": 9,
     "metadata": {},
     "output_type": "execute_result"
    }
   ],
   "source": [
    "res = OLS(y_standard, X_aug).fit()\n",
    "weights=res.params\n",
    "\n",
    "plt.figure(figsize=(10,5))\n",
    "sns.barplot(y=weights[1:].index, x=weights[1:].values)\n",
    "plt.title(' Weights for Factors Corr w/ Critic Score')\n",
    "plt.show()\n",
    "res.summary()"
   ]
  },
  {
   "attachments": {},
   "cell_type": "markdown",
   "metadata": {},
   "source": [
    "* R-squared/Adj R-sqrd is used to indicate the porportion of variance thats explained by my predictor variables, which in this case 48.3% of Critic Score variance can be explained by dependent var ~ which can suggest that dependent variables are not significantlly improving model. "
   ]
  },
  {
   "cell_type": "code",
   "execution_count": 14,
   "metadata": {},
   "outputs": [],
   "source": [
    "# Creating multilinear reg function\n",
    "def multilinear_regression_model(ind_var, dep_var):\n",
    "    # Fitting and pred of x,y on linearmodel\n",
    "    globals() ['mlr'] = LinearRegression().fit(ind_var, dep_var)\n",
    "    globals() ['yhat_mlr'] = mlr.predict(ind_var)\n",
    "    globals() ['col_used'] = [ind_var.columns[i] for i, value in enumerate(ind_var.columns)]\n",
    "\n",
    "    # Printing explained var ~ R-sqrd\n",
    "    globals() ['r_squared'] = mlr.score(ind_var, dep_var)\n",
    "    print(f'\\n\\n\\033[1mThe R-Sqaured is: {r_squared}\\033[0m')\n",
    "    print(f'We can say that \\033[1m~{round(r_squared*100,2)}%\\033[0m of the variation of the {dep_var.name} is explained by the multilinear model')\n",
    "\n",
    "    #Plot dist of act vs fitted scores\n",
    "    plt.figure(figsize=(10,5))\n",
    "    ax1= sns.distplot(dep_var, hist=False, color='r', label = 'Actual Value')\n",
    "    sns.distplot(yhat_mlr, hist=False, color = 'blue', label='Predicted Values', ax=ax1)\n",
    "    plt.title('Actual v Fitted Values')\n",
    "    plt.xlabel(dep_var.name.title())\n",
    "    plt.ylabel('Proportion of Critic Score')\n",
    "    plt.legend()\n",
    "    plt.show()\n",
    "    plt.close()"
   ]
  },
  {
   "cell_type": "code",
   "execution_count": 15,
   "metadata": {},
   "outputs": [
    {
     "name": "stdout",
     "output_type": "stream",
     "text": [
      "\n",
      "\n",
      "\u001b[1mThe R-Sqaured is: 0.48020829291660727\u001b[0m\n",
      "We can say that \u001b[1m~48.02%\u001b[0m of the variation of the Critic_Score is explained by the multilinear model\n"
     ]
    },
    {
     "name": "stderr",
     "output_type": "stream",
     "text": [
      "c:\\Users\\thech\\anaconda3\\lib\\site-packages\\seaborn\\distributions.py:2619: FutureWarning: `distplot` is a deprecated function and will be removed in a future version. Please adapt your code to use either `displot` (a figure-level function with similar flexibility) or `kdeplot` (an axes-level function for kernel density plots).\n",
      "  warnings.warn(msg, FutureWarning)\n",
      "c:\\Users\\thech\\anaconda3\\lib\\site-packages\\seaborn\\distributions.py:2619: FutureWarning: `distplot` is a deprecated function and will be removed in a future version. Please adapt your code to use either `displot` (a figure-level function with similar flexibility) or `kdeplot` (an axes-level function for kernel density plots).\n",
      "  warnings.warn(msg, FutureWarning)\n"
     ]
    },
    {
     "data": {
      "image/png": "[encoded data removed]",
      "text/plain": [
       "<Figure size 1000x500 with 1 Axes>"
      ]
     },
     "metadata": {},
     "output_type": "display_data"
    }
   ],
   "source": [
    "multilinear_regression_model(X_train ,y_train)"
   ]
  },
  {
   "cell_type": "code",
   "execution_count": 16,
   "metadata": {},
   "outputs": [
    {
     "data": {
      "text/html": [
       "<div>\n",
       "<style scoped>\n",
       "    .dataframe tbody tr th:only-of-type {\n",
       "        vertical-align: middle;\n",
       "    }\n",
       "\n",
       "    .dataframe tbody tr th {\n",
       "        vertical-align: top;\n",
       "    }\n",
       "\n",
       "    .dataframe thead th {\n",
       "        text-align: right;\n",
       "    }\n",
       "</style>\n",
       "<table border=\"1\" class=\"dataframe\">\n",
       "  <thead>\n",
       "    <tr style=\"text-align: right;\">\n",
       "      <th></th>\n",
       "      <th>Columns</th>\n",
       "      <th>Linear_Regression_Coeff</th>\n",
       "    </tr>\n",
       "  </thead>\n",
       "  <tbody>\n",
       "    <tr>\n",
       "      <th>0</th>\n",
       "      <td>Platform</td>\n",
       "      <td>-0.104358</td>\n",
       "    </tr>\n",
       "    <tr>\n",
       "      <th>1</th>\n",
       "      <td>Year_of_Release</td>\n",
       "      <td>0.281248</td>\n",
       "    </tr>\n",
       "    <tr>\n",
       "      <th>2</th>\n",
       "      <td>Genre</td>\n",
       "      <td>0.498299</td>\n",
       "    </tr>\n",
       "    <tr>\n",
       "      <th>3</th>\n",
       "      <td>NA_Sales</td>\n",
       "      <td>1.022065</td>\n",
       "    </tr>\n",
       "    <tr>\n",
       "      <th>4</th>\n",
       "      <td>EU_Sales</td>\n",
       "      <td>-0.466781</td>\n",
       "    </tr>\n",
       "    <tr>\n",
       "      <th>5</th>\n",
       "      <td>JP_Sales</td>\n",
       "      <td>-1.268509</td>\n",
       "    </tr>\n",
       "    <tr>\n",
       "      <th>6</th>\n",
       "      <td>Global_Sales</td>\n",
       "      <td>0.290124</td>\n",
       "    </tr>\n",
       "    <tr>\n",
       "      <th>7</th>\n",
       "      <td>Critic_Count</td>\n",
       "      <td>0.157364</td>\n",
       "    </tr>\n",
       "    <tr>\n",
       "      <th>8</th>\n",
       "      <td>User_Score</td>\n",
       "      <td>5.270409</td>\n",
       "    </tr>\n",
       "    <tr>\n",
       "      <th>9</th>\n",
       "      <td>User_Count</td>\n",
       "      <td>0.003179</td>\n",
       "    </tr>\n",
       "    <tr>\n",
       "      <th>10</th>\n",
       "      <td>Rating</td>\n",
       "      <td>-0.447368</td>\n",
       "    </tr>\n",
       "  </tbody>\n",
       "</table>\n",
       "</div>"
      ],
      "text/plain": [
       "            Columns  Linear_Regression_Coeff\n",
       "0          Platform                -0.104358\n",
       "1   Year_of_Release                 0.281248\n",
       "2             Genre                 0.498299\n",
       "3          NA_Sales                 1.022065\n",
       "4          EU_Sales                -0.466781\n",
       "5          JP_Sales                -1.268509\n",
       "6      Global_Sales                 0.290124\n",
       "7      Critic_Count                 0.157364\n",
       "8        User_Score                 5.270409\n",
       "9        User_Count                 0.003179\n",
       "10           Rating                -0.447368"
      ]
     },
     "execution_count": 16,
     "metadata": {},
     "output_type": "execute_result"
    }
   ],
   "source": [
    "## Eval coefficients in df\n",
    "coeff  = pd.DataFrame()\n",
    "coeff['Columns'] = X_train.columns\n",
    "coeff['Linear_Regression_Coeff'] = pd.Series(mlr.coef_)\n",
    "coeff"
   ]
  },
  {
   "cell_type": "code",
   "execution_count": 17,
   "metadata": {},
   "outputs": [],
   "source": [
    "# Creating multilinear reg function\n",
    "def cv_multilinear_regression_model(ind_var, dep_var,folds):\n",
    "    # Fitting and pred of x,y on linearmodel\n",
    "    globals() ['mlr'] = LinearRegression()\n",
    "    globals() ['yhat_cv_mlr'] = cross_val_predict(mlr, X_train,y_train, cv=folds)\n",
    "    globals() ['col_used'] = [ind_var.columns[i] for i, value in enumerate(ind_var.columns)]\n",
    "\n",
    "    #CV r2 scores\n",
    "    def get_cv(model, folds):\n",
    "        globals()['cv_scores'] = cross_val_score(model, X_train, y_train, cv=folds, scoring='r2')\n",
    "    get_cv(mlr,folds)\n",
    "    # Printing explained var ~ R-sqrd\n",
    "    globals() ['cv_r_squared'] = np.mean(cv_scores)\n",
    "    print(f'\\n\\n\\033[1mThe Cross Validated R-Sqaured is: {cv_r_squared}\\033[0m')\n",
    "    print(f'We can say that \\033[1m~{round(cv_r_squared*100,2)}%\\033[0m of the variation of the {dep_var.name} is explained by the multilinear model')\n",
    "    globals()['mse'] = mean_squared_error(y_train, yhat_cv_mlr)\n",
    "    print(f'\\033[1mThe Mean Squared Error of predicted values is: \\033[0m',mse)\n",
    "\n",
    "    #Plot dist of act vs fitted scores\n",
    "    plt.figure(figsize=(10,5))\n",
    "    ax1= sns.distplot(dep_var, hist=False, color='r', label = 'Actual Value')\n",
    "    sns.distplot(yhat_mlr, hist=False, color = 'blue', label='Cross Val Predicted Values', ax=ax1)\n",
    "    plt.title('Actual v Predicted Values')\n",
    "    plt.xlabel(dep_var.name.title())\n",
    "    plt.ylabel('Proportion of Critic Score')\n",
    "    plt.legend()\n",
    "    plt.show()\n",
    "    plt.close()"
   ]
  },
  {
   "cell_type": "code",
   "execution_count": 18,
   "metadata": {},
   "outputs": [
    {
     "name": "stdout",
     "output_type": "stream",
     "text": [
      "\n",
      "\n",
      "\u001b[1mThe Cross Validated R-Sqaured is: 0.473282239622003\u001b[0m\n",
      "We can say that \u001b[1m~47.33%\u001b[0m of the variation of the Critic_Score is explained by the multilinear model\n",
      "\u001b[1mThe Mean Squared Error of predicted values is: \u001b[0m 100.0763248717993\n"
     ]
    },
    {
     "name": "stderr",
     "output_type": "stream",
     "text": [
      "c:\\Users\\thech\\anaconda3\\lib\\site-packages\\seaborn\\distributions.py:2619: FutureWarning: `distplot` is a deprecated function and will be removed in a future version. Please adapt your code to use either `displot` (a figure-level function with similar flexibility) or `kdeplot` (an axes-level function for kernel density plots).\n",
      "  warnings.warn(msg, FutureWarning)\n",
      "c:\\Users\\thech\\anaconda3\\lib\\site-packages\\seaborn\\distributions.py:2619: FutureWarning: `distplot` is a deprecated function and will be removed in a future version. Please adapt your code to use either `displot` (a figure-level function with similar flexibility) or `kdeplot` (an axes-level function for kernel density plots).\n",
      "  warnings.warn(msg, FutureWarning)\n"
     ]
    },
    {
     "data": {
      "image/png": "[encoded data removed]",
      "text/plain": [
       "<Figure size 1000x500 with 1 Axes>"
      ]
     },
     "metadata": {},
     "output_type": "display_data"
    }
   ],
   "source": [
    "cv_multilinear_regression_model(X_train,y_train,5)"
   ]
  },
  {
   "attachments": {},
   "cell_type": "markdown",
   "metadata": {},
   "source": [
    "### Lasso Regression GridSearch"
   ]
  },
  {
   "cell_type": "code",
   "execution_count": 19,
   "metadata": {},
   "outputs": [],
   "source": [
    "param_grid = {'alpha': [0,0.0001,0.001,0.001,0.05,0.1],\n",
    "              'fit_intercept': [True, False]}"
   ]
  },
  {
   "cell_type": "code",
   "execution_count": 22,
   "metadata": {},
   "outputs": [
    {
     "name": "stdout",
     "output_type": "stream",
     "text": [
      "Fitting 20 folds for each of 12 candidates, totalling 240 fits\n",
      "Best Scores: 0.47146957973771464\n",
      "Best Parameteres: {'alpha': 0.1, 'fit_intercept': True}\n"
     ]
    }
   ],
   "source": [
    "lasso = Lasso(random_state= 42)\n",
    "lasso_grid= GridSearchCV(lasso, param_grid, scoring = 'r2', verbose =1, n_jobs =-1, cv=20)\n",
    "lasso_grid_results = lasso_grid.fit(X_train, y_train)\n",
    "print(f\"Best Scores: {lasso_grid_results.best_score_}\")\n",
    "print(f\"Best Parameteres: {lasso_grid_results.best_params_}\")"
   ]
  },
  {
   "attachments": {},
   "cell_type": "markdown",
   "metadata": {},
   "source": [
    "### Random Forest Regressor w/ GridSearchCV"
   ]
  },
  {
   "cell_type": "code",
   "execution_count": 23,
   "metadata": {},
   "outputs": [],
   "source": [
    "rf_param_grid={\n",
    "               'max_depth': [15,20],\n",
    "               'ccp_alpha': [0.0,0.2,0.4],\n",
    "               'n_estimators':[15,20,25]}"
   ]
  },
  {
   "cell_type": "code",
   "execution_count": 24,
   "metadata": {},
   "outputs": [
    {
     "name": "stdout",
     "output_type": "stream",
     "text": [
      "Fitting 50 folds for each of 18 candidates, totalling 900 fits\n",
      "Best Random Forest Scores: 0.5696626150488039\n",
      "Best Random Forest Params: {'ccp_alpha': 0.0, 'max_depth': 15, 'n_estimators': 25}\n"
     ]
    }
   ],
   "source": [
    "rf_grid = GridSearchCV(RandomForestRegressor(random_state=42), rf_param_grid, scoring = 'r2', verbose=2, n_jobs=-1, cv=50)\n",
    "rf_grid_results = rf_grid.fit(X_train, y_train)\n",
    "print(f\"Best Random Forest Scores: {rf_grid_results.best_score_}\")\n",
    "print(f'Best Random Forest Params: {rf_grid_results.best_params_}')"
   ]
  },
  {
   "cell_type": "code",
   "execution_count": 25,
   "metadata": {},
   "outputs": [
    {
     "name": "stdout",
     "output_type": "stream",
     "text": [
      "Randomized Forest Regressor model's Test score: 61.07\n"
     ]
    }
   ],
   "source": [
    "print(f\"Randomized Forest Regressor model's Test score: {round(rf_grid_results.best_estimator_.score(X_test, y_test)*100,2)}\")"
   ]
  },
  {
   "attachments": {},
   "cell_type": "markdown",
   "metadata": {},
   "source": [
    "### XGBoost Regression "
   ]
  },
  {
   "cell_type": "code",
   "execution_count": 29,
   "metadata": {},
   "outputs": [],
   "source": [
    "xgb_params = {'booster': ['gbtree','gblinear','dart'],\n",
    "               'max_depth':[10,15,20],\n",
    "              'subsample':[0.1,0.5,1],\n",
    "              'objective':['reg:squarederror']}"
   ]
  },
  {
   "cell_type": "code",
   "execution_count": 30,
   "metadata": {},
   "outputs": [
    {
     "name": "stdout",
     "output_type": "stream",
     "text": [
      "Best XGB Score: 0.5374471881301742\n",
      "Best XGB Params: {'booster': 'gbtree', 'max_depth': 10, 'objective': 'reg:squarederror', 'subsample': 1}\n"
     ]
    }
   ],
   "source": [
    "xgb_grid= GridSearchCV(XGBRegressor(random_state=42), xgb_params, scoring = 'r2', n_jobs=-1, cv=5)\n",
    "xgb_grid_results = xgb_grid.fit(X_train, y_train)\n",
    "print(f'Best XGB Score:', xgb_grid_results.best_score_)\n",
    "print(f'Best XGB Params:', xgb_grid_results.best_params_)"
   ]
  },
  {
   "cell_type": "code",
   "execution_count": 32,
   "metadata": {},
   "outputs": [
    {
     "name": "stdout",
     "output_type": "stream",
     "text": [
      "XGBRegressor model's Test score: 60.79\n"
     ]
    }
   ],
   "source": [
    "print(f\"XGBRegressor model's Test score: {round(xgb_grid_results.best_estimator_.score(X_test, y_test)*100,2)}\")"
   ]
  },
  {
   "attachments": {},
   "cell_type": "markdown",
   "metadata": {},
   "source": [
    "### Extra Trees Regressor"
   ]
  },
  {
   "cell_type": "code",
   "execution_count": 33,
   "metadata": {},
   "outputs": [],
   "source": [
    "forest_param_grid = {'n_estimators':[50,100,150],\n",
    "              'criterion':['squared_error'],\n",
    "              'ccp_alpha':[0.0,0.2,0.4]}"
   ]
  },
  {
   "cell_type": "code",
   "execution_count": 35,
   "metadata": {},
   "outputs": [
    {
     "name": "stdout",
     "output_type": "stream",
     "text": [
      "Fitting 20 folds for each of 9 candidates, totalling 180 fits\n",
      "Best Tree Score: 0.5925896835360323\n",
      "Best Tree Params: {'ccp_alpha': 0.0, 'criterion': 'squared_error', 'n_estimators': 150}\n"
     ]
    }
   ],
   "source": [
    "tree_grid = GridSearchCV(ExtraTreesRegressor(random_state=42), forest_param_grid, scoring = 'r2',verbose =2 , n_jobs=-1, cv=20)\n",
    "tree_grid_results = tree_grid.fit(X_train, y_train)\n",
    "print(f\"Best Tree Score: {tree_grid_results.best_score_}\")\n",
    "print(f\"Best Tree Params: {tree_grid_results.best_params_}\")"
   ]
  },
  {
   "cell_type": "code",
   "execution_count": 36,
   "metadata": {},
   "outputs": [
    {
     "name": "stdout",
     "output_type": "stream",
     "text": [
      "Extra Trees Regressor model on Test Score: 62.75\n"
     ]
    }
   ],
   "source": [
    "print(f\"Extra Trees Regressor model on Test Score: {round(tree_grid_results.score(X_test, y_test)*100,2)}\")"
   ]
  },
  {
   "attachments": {},
   "cell_type": "markdown",
   "metadata": {},
   "source": [
    "### Polynomial + Boosting GridSearch"
   ]
  },
  {
   "cell_type": "code",
   "execution_count": 37,
   "metadata": {},
   "outputs": [],
   "source": [
    "poly = PolynomialFeatures(degree=2)\n",
    "gb = GradientBoostingRegressor(learning_rate=0.25, loss='huber', n_estimators=200, random_state=42)\n",
    "\n",
    "pipe = Pipeline(steps=[('polynomialfeatures', poly), ('gradientboostingregressor', gb)])"
   ]
  },
  {
   "cell_type": "code",
   "execution_count": 40,
   "metadata": {},
   "outputs": [],
   "source": [
    "# define parameter grid with degree and other parameters for PolynomialFeatures and parameters for GradientBoostingRegressor\n",
    "poly_param = {'polynomialfeatures__degree': [1, 2, 3],\n",
    "              'gradientboostingregressor__learning_rate': [0.5, 0.1, 0.25],\n",
    "              'gradientboostingregressor__n_estimators': [100, 200, 300],\n",
    "              'gradientboostingregressor__loss': ['squared_error', 'absolute_error', 'huber']}\n"
   ]
  },
  {
   "cell_type": "code",
   "execution_count": 41,
   "metadata": {},
   "outputs": [
    {
     "name": "stdout",
     "output_type": "stream",
     "text": [
      "Fitting 10 folds for each of 81 candidates, totalling 810 fits\n",
      "Best Score: 0.6231971023379319\n",
      "Best Params: {'gradientboostingregressor__learning_rate': 0.1, 'gradientboostingregressor__loss': 'squared_error', 'gradientboostingregressor__n_estimators': 300, 'polynomialfeatures__degree': 1}\n"
     ]
    }
   ],
   "source": [
    "poly_grid = GridSearchCV(pipe, poly_param, scoring='r2', verbose=1, n_jobs=-1,cv=10)\n",
    "poly_grid_results = poly_grid.fit(X_train, y_train)\n",
    "print(f\"Best Score: {poly_grid_results.best_score_}\")\n",
    "print(f\"Best Params: {poly_grid_results.best_params_}\")"
   ]
  },
  {
   "cell_type": "code",
   "execution_count": null,
   "metadata": {},
   "outputs": [
    {
     "name": "stdout",
     "output_type": "stream",
     "text": [
      "Gradient+Polynomial Model's Test score: 64.16\n"
     ]
    }
   ],
   "source": [
    "print(f\"Gradient+Polynomial Model's Test score: {round(poly_grid_results.best_estimator_.score(X_test, y_test)*100,2)}\")"
   ]
  },
  {
   "attachments": {},
   "cell_type": "markdown",
   "metadata": {},
   "source": [
    "### Predictions on Test Set"
   ]
  },
  {
   "cell_type": "code",
   "execution_count": null,
   "metadata": {},
   "outputs": [],
   "source": [
    "### Save all models w.function \n",
    "def save_fiited_models(X,y):\n",
    "    #Multilinear\n",
    "    mlr.fit(X_train, y_train)\n",
    "    with open ('models/multilinear_regression_model.pk1','wb') as file:\n",
    "        pickle.dimp(mlr,file)\n",
    "    mlr_scor= mlr.score(X_test, y_test)\n",
    "    print(f\"Multilinear Regression Model Test Score: {round(mlr_score*100,2)}\")\n",
    "    \n",
    "    #Lasso \n",
    "    lasso = Lasso(**lasso_grid_results.best_params_, random_state=42)\n",
    "    lasso.fit(X,y)\n",
    "    with open('models/lasso_regression_model.pk1','wb') as file:\n",
    "        pickle.dump(lasso, file)\n",
    "        lasso_score = lasso.score(X_test, y_test)\n",
    "        print(f\"Lasso Regression Model Test Score {round(lasso_score*100,2)}\")\n",
    "\n",
    "     #Random Forest Regression\n",
    "    rfr = RandomForestRegressor(**rf_grid_results.best_params_, random_state=42)\n",
    "    rfr.fit(X,y)\n",
    "    with open(\"models/random_forest_regression_model.pk1\",'wb') as file:\n",
    "        pickle.dump(rfr, file)\n",
    "    rfr_score = rfr.score(X_test, y_test)\n",
    "    print(f\"Random Forest Regression Model Test Score: {round(rfr_score*100,2)}\")\n",
    "\n",
    "    #XGBoost Regression\n",
    "    xgb = xgb_grid_results.best_params_\n",
    "    xgb.fit(X,y)\n",
    "    with open(\"models/xgboost_regression_model.pk1\",'wb') as file:\n",
    "        pickle.dump(xgb, file)\n",
    "    xgb_score = xgb.score(X_test, y_test)\n",
    "    print(f\"Extreme Gradient Boosting Model Test Score: {round(xgb_score*100,2)}\")\n",
    "\n",
    "    #Tree Regressor\n",
    "    tr = ExtraTreesRegressor(**tree_grid_results.best_params_, random_state=42)\n",
    "    tr.fit(X,y)\n",
    "    with open('models/extra_tree_regressor_model,pk1','wb') as file:\n",
    "        pickle.dump(tr, file)\n",
    "    tr_score = tr.score(X_test, y_test)\n",
    "    print(f\"Extra Trees Regression Model Test Score {round(tr_score*100,2)}\")\n",
    "\n",
    "    #Polynomial + Boost\n",
    "    poly = poly_grid_results.best_estimator_\n",
    "    poly.fit(X,y)\n",
    "    with open(\"models/polynomial_regression_model.pk1\", \"wb\") as file:\n",
    "        pickle.dump(poly, file)\n",
    "    poly_score = poly.score(X_test, y_test)\n",
    "    print(f\"Polynomial Boosting Model Test Score: {round(poly_score*100,2)}\")\n"
   ]
  },
  {
   "attachments": {},
   "cell_type": "markdown",
   "metadata": {},
   "source": [
    "### Load Pickled Model and Display Prediction"
   ]
  },
  {
   "cell_type": "code",
   "execution_count": null,
   "metadata": {},
   "outputs": [],
   "source": [
    "def critic_score_pred(game_info):\n",
    "    #Extract game title\n",
    "    def titlestr(obj, namespace):\n",
    "        name = str([name for name in namespace if namespace[name] is obj]).replace(\"_\",\" \").title()\n",
    "        return name[2:-2]\n",
    "    title = namestr(game_info, globals())"
   ]
  }
 ],
 "metadata": {
  "kernelspec": {
   "display_name": "base",
   "language": "python",
   "name": "python3"
  },
  "language_info": {
   "codemirror_mode": {
    "name": "ipython",
    "version": 3
   },
   "file_extension": ".py",
   "mimetype": "text/x-python",
   "name": "python",
   "nbconvert_exporter": "python",
   "pygments_lexer": "ipython3",
   "version": "3.9.13"
  },
  "orig_nbformat": 4,
  "vscode": {
   "interpreter": {
    "hash": "fc9c408517bdc0f34c4d983e8761969fe884e17fdd05ce7c89d4d6e9d94efadf"
   }
  }
 },
 "nbformat": 4,
 "nbformat_minor": 2
}
